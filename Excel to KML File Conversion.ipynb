{
 "cells": [
  {
   "cell_type": "code",
   "execution_count": 1,
   "id": "aca886e1-211e-47f3-b316-9e07e2b34b5b",
   "metadata": {},
   "outputs": [],
   "source": [
    "# Import the necessary libraries\n",
    "import pandas as pd\n",
    "import simplekml\n",
    "\n",
    "# Step 1: Load the Excel file\n",
    "file_path = r\"file_path\" #use the file path on your own local disk\n",
    "data = pd.read_excel(file_path)"
   ]
  },
  {
   "cell_type": "code",
   "execution_count": null,
   "id": "f978e205-f5b8-4be5-ab4e-57be398a3234",
   "metadata": {},
   "outputs": [],
   "source": [
    "data.head()"
   ]
  },
  {
   "cell_type": "code",
   "execution_count": 3,
   "id": "471b4043-bbe6-4a18-b115-77199b284b02",
   "metadata": {},
   "outputs": [],
   "source": [
    "# Initialize the KML object\n",
    "kml = simplekml.Kml()"
   ]
  },
  {
   "cell_type": "code",
   "execution_count": null,
   "id": "aa125e57-1e38-49a4-9332-76988fc75324",
   "metadata": {},
   "outputs": [],
   "source": [
    "# Step 2: Function to parse coordinates and generate KML file\n",
    "def parse_coordinates(coordinates_str):\n",
    "    geopins = []\n",
    "    if isinstance(coordinates_str, str):  # Ensure the input is a string\n",
    "        for coord in coordinates_str.split(';'):  # Split coordinates by semicolons\n",
    "            parts = coord.strip().split()  # Split each coordinate into parts (latitude, longitude, etc.)\n",
    "            if len(parts) >= 2:  # Ensure we have at least two parts for lat and lon\n",
    "                try:\n",
    "                    latitude = float(parts[0])\n",
    "                    longitude = float(parts[1])\n",
    "                    geopins.append((longitude, latitude))  # KML format is (lon, lat)\n",
    "                except ValueError:\n",
    "                    print(f\"Skipping invalid coordinate: {coord}\")\n",
    "    return geopins\n",
    "\n",
    "# Step 3: Create a new KML object\n",
    "kml = simplekml.Kml()\n",
    "\n",
    "# Define a style for the polygons (transparent color)\n",
    "polystyle = simplekml.Style()\n",
    "polystyle.polystyle.color = '7d00ff00'  # 7d is the transparency, 00ff00 is green color\n",
    "\n",
    "# Step 4: Loop through each row in the DataFrame and add polygons to the KML\n",
    "for index, row in data.iterrows():\n",
    "    farmer_name = row['full_name']  # Get the name of the farmer\n",
    "    geopins_raw = row['geographic_boundaries']  # Get raw coordinates from the 'geographic_boundaries' column\n",
    "    \n",
    "    # Parse the geographic boundaries to extract coordinates\n",
    "    coordinates = parse_coordinates(geopins_raw)\n",
    "    \n",
    "    if coordinates:\n",
    "        # Create a polygon for the farm\n",
    "        pol = kml.newpolygon(name=farmer_name)\n",
    "        pol.outerboundaryis = coordinates\n",
    "        pol.style = polystyle\n",
    "\n",
    "# Step 5: Save the KML to a file\n",
    "kml.save(\"AB_Test.kml\")\n",
    "print(\"KML file created successfully!\")\n"
   ]
  },
  {
   "cell_type": "code",
   "execution_count": null,
   "id": "ba23a122-10da-4814-866e-ba13668427f6",
   "metadata": {},
   "outputs": [],
   "source": []
  }
 ],
 "metadata": {
  "kernelspec": {
   "display_name": "Python 3 (ipykernel)",
   "language": "python",
   "name": "python3"
  },
  "language_info": {
   "codemirror_mode": {
    "name": "ipython",
    "version": 3
   },
   "file_extension": ".py",
   "mimetype": "text/x-python",
   "name": "python",
   "nbconvert_exporter": "python",
   "pygments_lexer": "ipython3",
   "version": "3.12.7"
  }
 },
 "nbformat": 4,
 "nbformat_minor": 5
}
