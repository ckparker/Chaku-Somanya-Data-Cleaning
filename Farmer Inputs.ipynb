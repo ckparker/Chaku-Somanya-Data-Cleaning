{
 "cells": [
  {
   "cell_type": "code",
   "execution_count": 1,
   "id": "b5a5a4bb-9700-48ae-9bd6-2bd8b4d11201",
   "metadata": {},
   "outputs": [],
   "source": [
    "import pandas as pd\n",
    "\n",
    "# Load the Excel file\n",
    "df_main = pd.read_excel('Inputs Raw.xlsx')\n"
   ]
  },
  {
   "cell_type": "code",
   "execution_count": null,
   "id": "2c31e4c5-f026-4a93-833a-2be13ee18331",
   "metadata": {},
   "outputs": [],
   "source": [
    "# Split the input types into separate rows for each farmer\n",
    "expanded_df = df_main[['Full Name', 'Input Type']].copy()\n",
    "expanded_df['Input Type'] = expanded_df['Input Type'].str.split(',')\n",
    "expanded_df = expanded_df.explode('Input Type')\n",
    "\n",
    "# Clean up the data\n",
    "expanded_df['Input Type'] = expanded_df['Input Type'].str.strip()\n",
    "result_df = expanded_df.dropna()\n",
    "\n",
    "# Save the result to a CSV file\n",
    "output_filename = 'farmer_inputs_updated.xlsx'\n",
    "result_df.to_excel(output_filename, index=False)\n",
    "\n",
    "print(f\"File saved as: {output_filename}\")\n",
    "print(\"Preview of saved data:\")\n",
    "print(result_df.head())"
   ]
  },
  {
   "cell_type": "code",
   "execution_count": null,
   "id": "491e355d-d7b2-44dc-a375-f77270a93303",
   "metadata": {},
   "outputs": [],
   "source": []
  }
 ],
 "metadata": {
  "kernelspec": {
   "display_name": "Python 3 (ipykernel)",
   "language": "python",
   "name": "python3"
  },
  "language_info": {
   "codemirror_mode": {
    "name": "ipython",
    "version": 3
   },
   "file_extension": ".py",
   "mimetype": "text/x-python",
   "name": "python",
   "nbconvert_exporter": "python",
   "pygments_lexer": "ipython3",
   "version": "3.12.7"
  }
 },
 "nbformat": 4,
 "nbformat_minor": 5
}
