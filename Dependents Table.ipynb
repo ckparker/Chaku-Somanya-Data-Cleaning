{
 "cells": [
  {
   "cell_type": "code",
   "execution_count": 14,
   "id": "519b3cc0-d6d9-4bce-b033-f6c17c7276ed",
   "metadata": {},
   "outputs": [
    {
     "name": "stdout",
     "output_type": "stream",
     "text": [
      "Columns in the DataFrame: Index(['Full name', '0-5', '6-10', '11-13', '14-18', 'above 18'], dtype='object')\n",
      "First few rows of the DataFrame:\n",
      "                 Full name  0-5  6-10  11-13  14-18  above 18\n",
      "0             Doku,Stephen  1.0   NaN    1.0    NaN       NaN\n",
      "1           Tetteh,Joseph   2.0   2.0    1.0    NaN       NaN\n",
      "2  Annang,Emmanuel Adjetey  1.0   2.0    2.0    NaN       NaN\n",
      "3      Antonio,Vida Ayoleh  NaN   NaN    2.0    1.0       NaN\n",
      "4     Odue,Christian Oklah  3.0   1.0    NaN    NaN       NaN\n"
     ]
    }
   ],
   "source": [
    "import pandas as pd\n",
    "\n",
    "# Read the original data\n",
    "original_df = pd.read_excel('dependents_raw.xlsx')\n",
    "\n",
    "# Print the columns to check the names\n",
    "print(\"Columns in the DataFrame:\", original_df.columns)\n",
    "\n",
    "# Print the first few rows to see the data\n",
    "print(\"First few rows of the DataFrame:\")\n",
    "print(original_df.head())\n",
    "\n",
    "# Create an empty DataFrame for the new structure\n",
    "new_df = pd.DataFrame(columns=['Full name', 'age range', 'number of dependents'])\n",
    "\n",
    "# Define the age ranges based on actual column names in the original data\n",
    "age_ranges = ['0-5', '6-10', '11-13', '14-18', 'above 18']  # Make sure these match the actual column names\n",
    "\n",
    "# List to store the new rows\n",
    "new_rows = []\n",
    "\n",
    "# Iterate over each row in the original data\n",
    "for index, row in original_df.iterrows():\n",
    "    full_name = row.get('Full name', None)  # Use .get to avoid KeyError and see if 'Full name' exists\n",
    "    \n",
    "    if full_name is None:\n",
    "        print(f\"Missing 'Full name' in row {index + 1}\")\n",
    "        continue  # Skip this row if 'Full name' is missing\n",
    "    \n",
    "    # Iterate over each age range\n",
    "    for age_range in age_ranges:\n",
    "        number_of_dependents = row.get(age_range, 0)  # Use .get to avoid KeyError\n",
    "        new_row = {'Full name': full_name, 'age range': age_range, 'number of dependents': number_of_dependents}\n",
    "        new_rows.append(new_row)\n",
    "\n",
    "# Create the new DataFrame from the list of new rows\n",
    "new_df = pd.DataFrame(new_rows, columns=['Full name', 'age range', 'number of dependents'])\n",
    "\n",
    "# Save the new data to an Excel file\n",
    "new_df.to_excel('new_data.xlsx', index=False)\n"
   ]
  },
  {
   "cell_type": "code",
   "execution_count": null,
   "id": "de2f0fbe-f29b-4af7-ad5a-a6365a77df7f",
   "metadata": {},
   "outputs": [],
   "source": []
  }
 ],
 "metadata": {
  "kernelspec": {
   "display_name": "Python 3 (ipykernel)",
   "language": "python",
   "name": "python3"
  },
  "language_info": {
   "codemirror_mode": {
    "name": "ipython",
    "version": 3
   },
   "file_extension": ".py",
   "mimetype": "text/x-python",
   "name": "python",
   "nbconvert_exporter": "python",
   "pygments_lexer": "ipython3",
   "version": "3.12.7"
  }
 },
 "nbformat": 4,
 "nbformat_minor": 5
}
