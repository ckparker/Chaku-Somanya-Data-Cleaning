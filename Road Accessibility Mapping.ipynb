{
 "cells": [
  {
   "cell_type": "code",
   "execution_count": 5,
   "id": "7026b27e-3274-4835-941f-f30730e9db23",
   "metadata": {},
   "outputs": [],
   "source": [
    "import pandas as pd\n",
    "\n",
    "# Load the Excel file\n",
    "file_path = r\"C:\\Users\\CHAKU FOODS\\Documents\\Road Accessibility Mapping.xlsx\"\n",
    "\n",
    "# Read the sheets into DataFrames\n",
    "sheet1 = pd.read_excel(file_path, sheet_name=0)  # First sheet\n",
    "sheet2 = pd.read_excel(file_path, sheet_name=1)  # Second sheet\n",
    "\n",
    "# Extract relevant columns for mapping\n",
    "mapping_df = sheet1[['first_name', 'last_name', 'road_accessibility']]\n",
    "\n",
    "# Drop duplicates to avoid redundant mapping\n",
    "unique_mapping_df = mapping_df.drop_duplicates(subset=['first_name', 'last_name'])\n",
    "\n",
    "# Merge the road_accessibility2 column into the second sheet using first_name and last_name\n",
    "sheet2_with_accessibility = sheet2.merge(\n",
    "    unique_mapping_df,\n",
    "    on=['first_name', 'last_name'],\n",
    "    how='left'\n",
    ")\n",
    "\n",
    "# Assuming sheet2_with_accessibility is your DataFrame\n",
    "output_file_path = r\"C:\\Users\\CHAKU FOODS\\Documents\\Road Accessibility Mapping Updated.xlsx\"\n",
    "sheet2_with_accessibility.to_excel(output_file_path, sheet_name='Sheet2_Updated', index=False)\n"
   ]
  },
  {
   "cell_type": "code",
   "execution_count": null,
   "id": "b741984b-131b-4575-8457-6faf1485e527",
   "metadata": {},
   "outputs": [],
   "source": []
  }
 ],
 "metadata": {
  "kernelspec": {
   "display_name": "Python 3 (ipykernel)",
   "language": "python",
   "name": "python3"
  },
  "language_info": {
   "codemirror_mode": {
    "name": "ipython",
    "version": 3
   },
   "file_extension": ".py",
   "mimetype": "text/x-python",
   "name": "python",
   "nbconvert_exporter": "python",
   "pygments_lexer": "ipython3",
   "version": "3.12.7"
  }
 },
 "nbformat": 4,
 "nbformat_minor": 5
}
