{
 "cells": [
  {
   "cell_type": "code",
   "execution_count": null,
   "id": "c40e2517-692a-4412-ab12-07191621ca9c",
   "metadata": {},
   "outputs": [],
   "source": [
    "import pandas as pd\n",
    "\n",
    "# Load the Excel file\n",
    "file_path = r\"file_path\"\n",
    "\n",
    "# Step 1: Load the data\n",
    "sheet1 = pd.read_excel(file_path, sheet_name='Somanya Farmers Geoboundaries')\n",
    "sheet2 = pd.read_excel(file_path, sheet_name='Names')\n",
    "\n",
    "# Step 2: Define a function to process the \"full_name\" column\n",
    "def process_full_name(row, name_reference):\n",
    "    full_name = row['full_name']\n",
    "    farm_number = None\n",
    "\n",
    "    # Check if \"Farm X\" exists and extract it\n",
    "    if \"Farm\" in full_name:\n",
    "        parts = full_name.split(\"Farm\")\n",
    "        farm_number = f\"Farm {parts[-1].strip()}\"\n",
    "        full_name = parts[0].strip()\n",
    "\n",
    "    # Split remaining full_name into potential first and last names\n",
    "    name_parts = full_name.split()\n",
    "    if len(name_parts) > 1:\n",
    "        # Infer last_name and first_name from the reference sheet\n",
    "        last_name, first_name = name_parts[-1], \" \".join(name_parts[:-1])\n",
    "        # Validate against the reference sheet\n",
    "        match = name_reference[\n",
    "            (name_reference['last_name'] == last_name) & \n",
    "            (name_reference['first_name'].str.contains(first_name, na=False))\n",
    "        ]\n",
    "        if not match.empty:\n",
    "            # Use the first matched name for consistency\n",
    "            first_name = match.iloc[0]['first_name']\n",
    "            last_name = match.iloc[0]['last_name']\n",
    "    else:\n",
    "        # If only one part, consider it as last_name, first_name unknown\n",
    "        last_name = name_parts[0]\n",
    "        first_name = None\n",
    "\n",
    "    return pd.Series([last_name, first_name, farm_number])\n",
    "\n",
    "# Step 3: Apply the function to process the data\n",
    "name_reference = sheet2[['last_name', 'first_name']]\n",
    "sheet1[['last_name', 'first_name', 'farm_number']] = sheet1.apply(\n",
    "    process_full_name, axis=1, name_reference=name_reference\n",
    ")\n",
    "\n",
    "# Display the updated data\n",
    "print(sheet1.head())\n",
    "\n",
    "# Save the updated sheet1 to a new Excel file\n",
    "output_path = r\"C:\\Users\\CHAKU FOODS\\Documents\\Updated Names and Farms.xlsx\"\n",
    "sheet1.to_excel(output_path, index=False)\n"
   ]
  },
  {
   "cell_type": "code",
   "execution_count": null,
   "id": "d4ebdf61-2cd4-47c9-bc47-100d3abd435f",
   "metadata": {},
   "outputs": [],
   "source": []
  }
 ],
 "metadata": {
  "kernelspec": {
   "display_name": "Python 3 (ipykernel)",
   "language": "python",
   "name": "python3"
  },
  "language_info": {
   "codemirror_mode": {
    "name": "ipython",
    "version": 3
   },
   "file_extension": ".py",
   "mimetype": "text/x-python",
   "name": "python",
   "nbconvert_exporter": "python",
   "pygments_lexer": "ipython3",
   "version": "3.12.7"
  }
 },
 "nbformat": 4,
 "nbformat_minor": 5
}
