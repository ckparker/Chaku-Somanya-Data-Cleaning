{
 "cells": [
  {
   "cell_type": "code",
   "execution_count": 5,
   "id": "c40e2517-692a-4412-ab12-07191621ca9c",
   "metadata": {},
   "outputs": [
    {
     "name": "stdout",
     "output_type": "stream",
     "text": [
      "    Crop                full_name  \\\n",
      "0  Mango      Stephen Doku Farm 1   \n",
      "1  Mango      Stephen Doku Farm 2   \n",
      "2  Mango           Joseph  Tetteh   \n",
      "3  Mango  Emmanuel Adjetey Annang   \n",
      "4  Mango      Vida Ayoleh Antonio   \n",
      "\n",
      "                              land_coordinates  latitude  longitude  altitude  \\\n",
      "0   6.1017683 0.0243283 58.099999999999994 1.9  6.101768   0.024328      58.1   \n",
      "1                 6.1007293 0.0264156 62.7 3.5  6.100729   0.024713      62.7   \n",
      "2                 6.1023905 0.0247133 57.0 4.2  6.102391   0.024713      57.0   \n",
      "3                 6.0619631 0.0177471 86.9 4.7  6.061963   0.017747      86.9   \n",
      "4  6.0745677 -0.0139678 97.69999999999999 3.65  6.074568  -0.013968      97.7   \n",
      "\n",
      "   precision                              geographic_boundaries last_name  \\\n",
      "0       1.90  6.101746 0.0243237 61.400000000000006 2.4;6.10...      Doku   \n",
      "1       3.50  6.1006581 0.026417 74.1 2.04;6.1006824 0.02643...      Doku   \n",
      "2       4.20  6.1025726 0.024584 54.599999999999994 2.057;6....    Tetteh   \n",
      "3       4.70  6.061655 0.0182801 88.80000000000001 1.5;6.061...    Annang   \n",
      "4       3.65  6.0745764 -0.0140106 97 1.5;6.0745881 -0.01399...   Antonio   \n",
      "\n",
      "         first_name farm_number  \n",
      "0           Stephen      Farm 1  \n",
      "1           Stephen      Farm 2  \n",
      "2           Joseph         None  \n",
      "3  Emmanuel Adjetey        None  \n",
      "4       Vida Ayoleh        None  \n"
     ]
    }
   ],
   "source": [
    "import pandas as pd\n",
    "\n",
    "# Load the Excel file\n",
    "file_path = r\"C:\\Users\\CHAKU FOODS\\Documents\\Somanya Farmers Geoboundaries.xlsx\"\n",
    "\n",
    "# Step 1: Load the data\n",
    "sheet1 = pd.read_excel(file_path, sheet_name='Somanya Farmers Geoboundaries')\n",
    "sheet2 = pd.read_excel(file_path, sheet_name='Names')\n",
    "\n",
    "# Step 2: Define a function to process the \"full_name\" column\n",
    "def process_full_name(row, name_reference):\n",
    "    full_name = row['full_name']\n",
    "    farm_number = None\n",
    "\n",
    "    # Check if \"Farm X\" exists and extract it\n",
    "    if \"Farm\" in full_name:\n",
    "        parts = full_name.split(\"Farm\")\n",
    "        farm_number = f\"Farm {parts[-1].strip()}\"\n",
    "        full_name = parts[0].strip()\n",
    "\n",
    "    # Split remaining full_name into potential first and last names\n",
    "    name_parts = full_name.split()\n",
    "    if len(name_parts) > 1:\n",
    "        # Infer last_name and first_name from the reference sheet\n",
    "        last_name, first_name = name_parts[-1], \" \".join(name_parts[:-1])\n",
    "        # Validate against the reference sheet\n",
    "        match = name_reference[\n",
    "            (name_reference['last_name'] == last_name) & \n",
    "            (name_reference['first_name'].str.contains(first_name, na=False))\n",
    "        ]\n",
    "        if not match.empty:\n",
    "            # Use the first matched name for consistency\n",
    "            first_name = match.iloc[0]['first_name']\n",
    "            last_name = match.iloc[0]['last_name']\n",
    "    else:\n",
    "        # If only one part, consider it as last_name, first_name unknown\n",
    "        last_name = name_parts[0]\n",
    "        first_name = None\n",
    "\n",
    "    return pd.Series([last_name, first_name, farm_number])\n",
    "\n",
    "# Step 3: Apply the function to process the data\n",
    "name_reference = sheet2[['last_name', 'first_name']]\n",
    "sheet1[['last_name', 'first_name', 'farm_number']] = sheet1.apply(\n",
    "    process_full_name, axis=1, name_reference=name_reference\n",
    ")\n",
    "\n",
    "# Display the updated data\n",
    "print(sheet1.head())\n",
    "\n",
    "# Save the updated sheet1 to a new Excel file\n",
    "output_path = r\"C:\\Users\\CHAKU FOODS\\Documents\\Updated Names and Farms.xlsx\"\n",
    "sheet1.to_excel(output_path, index=False)\n"
   ]
  },
  {
   "cell_type": "code",
   "execution_count": null,
   "id": "d4ebdf61-2cd4-47c9-bc47-100d3abd435f",
   "metadata": {},
   "outputs": [],
   "source": []
  }
 ],
 "metadata": {
  "kernelspec": {
   "display_name": "Python 3 (ipykernel)",
   "language": "python",
   "name": "python3"
  },
  "language_info": {
   "codemirror_mode": {
    "name": "ipython",
    "version": 3
   },
   "file_extension": ".py",
   "mimetype": "text/x-python",
   "name": "python",
   "nbconvert_exporter": "python",
   "pygments_lexer": "ipython3",
   "version": "3.12.7"
  }
 },
 "nbformat": 4,
 "nbformat_minor": 5
}
