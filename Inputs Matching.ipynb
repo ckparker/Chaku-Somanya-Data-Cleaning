{
 "cells": [
  {
   "cell_type": "code",
   "execution_count": 5,
   "id": "9807ca5e-000a-4ae6-92f6-42af2651612a",
   "metadata": {},
   "outputs": [
    {
     "name": "stdout",
     "output_type": "stream",
     "text": [
      "Updated file saved to Updated_Inputs_Matching.xlsx\n"
     ]
    }
   ],
   "source": [
    "import pandas as pd\n",
    "\n",
    "# Load the Excel file\n",
    "file_path = r\"C:\\Users\\CHAKU FOODS\\Documents\\Inputs Matching.xlsx\"  # Replace with the correct file path\n",
    "excel_data = pd.ExcelFile(file_path)\n",
    "\n",
    "# Load the sheets\n",
    "group_crop_mapping_inputs = excel_data.parse('group_crop_mapping_inputs')\n",
    "new_inputs_table = excel_data.parse('New Inputs Table')\n",
    "\n",
    "# Identify input columns, excluding \"Inputs used/Other (manually specify)\"\n",
    "input_columns = [col for col in group_crop_mapping_inputs.columns if \"Inputs used\" in col and \"Other (manually specify)\" not in col]\n",
    "\n",
    "# Extract existing entries from the \"New Inputs Table\" to avoid duplicates\n",
    "existing_entries = set(zip(new_inputs_table['last_name'], new_inputs_table['first_name'], new_inputs_table['input_type']))\n",
    "\n",
    "# Prepare a list to collect the new data for the \"New Inputs Table\"\n",
    "new_entries = []\n",
    "\n",
    "# Iterate through each row in the input columns\n",
    "for _, row in group_crop_mapping_inputs.iterrows():\n",
    "    for input_col in input_columns:\n",
    "        if row[input_col] == 1:  # Check if the value is 1\n",
    "            input_type = input_col.split('/')[-1]  # Extract the input type from the column name\n",
    "            \n",
    "            # Check if the combination already exists\n",
    "            entry_key = (row['last_name'], row['first_name'], input_type)\n",
    "            if entry_key not in existing_entries:\n",
    "                new_entries.append({\n",
    "                    'last_name': row['last_name'],\n",
    "                    'first_name': row['first_name'],\n",
    "                    'input_type': input_type,\n",
    "                    'details': None  # Placeholder for 'details' column\n",
    "                })\n",
    "                existing_entries.add(entry_key)  # Add to the existing entries to prevent duplicates\n",
    "\n",
    "# Convert the new entries to a DataFrame\n",
    "new_entries_df = pd.DataFrame(new_entries)\n",
    "\n",
    "# Append to the existing \"New Inputs Table\"\n",
    "updated_new_inputs_table = pd.concat([new_inputs_table, new_entries_df], ignore_index=True)\n",
    "\n",
    "# Save the updated table back to a new Excel file\n",
    "output_path = 'Updated_Inputs_Matching.xlsx'  # Replace with your desired output file path\n",
    "\n",
    "# Write the sheets to the new Excel file using the default engine\n",
    "with pd.ExcelWriter(output_path, engine='openpyxl') as writer:\n",
    "    group_crop_mapping_inputs.to_excel(writer, sheet_name='group_crop_mapping_inputs', index=False)\n",
    "    updated_new_inputs_table.to_excel(writer, sheet_name='New Inputs Table', index=False)\n",
    "\n",
    "print(f\"Updated file saved to {output_path}\")\n"
   ]
  },
  {
   "cell_type": "code",
   "execution_count": null,
   "id": "07378458-274b-41b5-b5bb-f6635676f396",
   "metadata": {},
   "outputs": [],
   "source": []
  }
 ],
 "metadata": {
  "kernelspec": {
   "display_name": "Python 3 (ipykernel)",
   "language": "python",
   "name": "python3"
  },
  "language_info": {
   "codemirror_mode": {
    "name": "ipython",
    "version": 3
   },
   "file_extension": ".py",
   "mimetype": "text/x-python",
   "name": "python",
   "nbconvert_exporter": "python",
   "pygments_lexer": "ipython3",
   "version": "3.12.7"
  }
 },
 "nbformat": 4,
 "nbformat_minor": 5
}
